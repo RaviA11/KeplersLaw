{
 "cells": [
  {
   "cell_type": "code",
   "execution_count": 3,
   "id": "44db2fbb-c1c8-48f2-9cf5-c6fbb634dbe2",
   "metadata": {},
   "outputs": [
    {
     "name": "stdout",
     "output_type": "stream",
     "text": [
      "Jupiter's mass in solar units is 0.0009540535890745424\n",
      "Jupiter's mass in Earth units is 317.7284667694948\n",
      "\n",
      "Saturn's mass in solar units is 0.00028577477889555426\n",
      "Saturn's mass in Earth units is 95.17157461558642\n"
     ]
    },
    {
     "data": {
      "image/png": "[encoded data removed]",
      "text/plain": [
       "<Figure size 432x288 with 1 Axes>"
      ]
     },
     "metadata": {
      "needs_background": "light"
     },
     "output_type": "display_data"
    },
    {
     "data": {
      "image/png": "[encoded data removed]",
      "text/plain": [
       "<Figure size 432x288 with 1 Axes>"
      ]
     },
     "metadata": {
      "needs_background": "light"
     },
     "output_type": "display_data"
    },
    {
     "data": {
      "image/png": "[encoded data removed]",
      "text/plain": [
       "<Figure size 432x288 with 1 Axes>"
      ]
     },
     "metadata": {
      "needs_background": "light"
     },
     "output_type": "display_data"
    },
    {
     "name": "stdout",
     "output_type": "stream",
     "text": [
      "  Orbiting  Orbiter Orbiter.1 Semimajor Orbital\n",
      "1      Sun  Mercury         P     0.387   0.241\n",
      "2      Sun    Venus         P     0.723   0.615\n",
      "3      Sun    Earth         P         1       1\n",
      "4      Sun     Mars         P     1.524   1.881\n",
      "5      Sun  Jupiter         P     5.203   11.86\n",
      "6      Sun   Saturn         P     9.537   29.45\n",
      "7      Sun   Uranus         P     19.19   84.02\n",
      "8      Sun  Neptune         P     30.07   164.8\n",
      "   Orbiting   Orbiter Orbiter.1 Semimajor Orbital\n",
      "9       Sun     Ceres         D     2.767   4.599\n",
      "10      Sun     Pluto         D     39.45   247.9\n",
      "11      Sun    Haumea         D     43.13   283.3\n",
      "12      Sun  Makemake         D     45.43   306.2\n",
      "13      Sun      Eris         D      67.9   559.6\n",
      "   Orbiting   Orbiter Orbiter.1 Semimajor Orbital\n",
      "15  Jupiter  Amalthea         M     181.4  0.4982\n",
      "16  Jupiter        Io         M     421.7   1.769\n",
      "17  Jupiter    Europa         M     670.9   3.551\n",
      "18  Jupiter  Ganymede         M      1070   7.155\n",
      "19  Jupiter  Callisto         M      1883   16.69\n",
      "20  Jupiter   Himalia         M     11460   250.6\n",
      "   Orbiting    Orbiter Orbiter.1 Semimajor Orbital\n",
      "21   Saturn      Janus         M     151.5  0.6947\n",
      "22   Saturn      Mimas         M     185.5  0.9424\n",
      "23   Saturn  Enceladus         M     237.9    1.37\n",
      "24   Saturn     Tethys         M     294.6   1.888\n",
      "25   Saturn      Dione         M     377.4   2.737\n",
      "26   Saturn       Rhea         M     527.1   4.518\n",
      "27   Saturn      Titan         M      1222   15.94\n",
      "28   Saturn   Hyoerion         M      1481   21.28\n",
      "29   Saturn    Iapetus         M      3561   79.32\n",
      "30   Saturn     Phoebe         M     12960   550.6\n"
     ]
    }
   ],
   "source": [
    "# imports my packages\n",
    "import numpy as np\n",
    "import pandas as pd\n",
    "import matplotlib.pyplot as plt\n",
    "from math import log\n",
    "\n",
    "\n",
    "# Imports my data for Celestial Bodies orbiting the Sun\n",
    "Orbiting_Sun = pd.read_excel('/Users/ravial-sahalman/Downloads/KeplersLaws.xlsx',sheet_name = 0)\n",
    "PlanetsOrbiting_Sun = Orbiting_Sun[(Orbiting_Sun['Orbiter.1']=='P')]\n",
    "DwarfsOrbiting_Sun = Orbiting_Sun[(Orbiting_Sun['Orbiter.1']=='D')]\n",
    "x = np.array(PlanetsOrbiting_Sun['Semimajor']) \n",
    "y = np.array(PlanetsOrbiting_Sun['Orbital'])\n",
    "w = np.array(DwarfsOrbiting_Sun['Semimajor'])\n",
    "v = np.array(DwarfsOrbiting_Sun['Orbital'])\n",
    "\n",
    "\n",
    "# Imports my data for Celestial Bodies orbiting Jupiter\n",
    "Orbiting_Jupiter  = pd.read_excel('/Users/ravial-sahalman/Downloads/KeplersLaws.xlsx',sheet_name = 0)\n",
    "Orbiting_Jupiter = Orbiting_Jupiter[(Orbiting_Jupiter['Orbiting']=='Jupiter')]\n",
    "a = np.array(Orbiting_Jupiter['Semimajor'])\n",
    "b = np.array(Orbiting_Jupiter['Orbital'])\n",
    "\n",
    "A = a * (1000)*(6.685*10**-9) # Converts 10^3 km to AU\n",
    "B = b/365 # Converts days to years\n",
    "\n",
    "Mass_Jupiter = (A**3)/(B**2) # Mass of Jupiter in an array of different values\n",
    "JupiterMass_Ave = np.mean(Mass_Jupiter) # Averages all of those values\n",
    "print(f\"Jupiter's mass in solar units is {JupiterMass_Ave}\") # Prints Jupiter's mass in solar units\n",
    "\n",
    "Earth_Units_Jupiter = Mass_Jupiter * 333030 # Converts Solar mass units to Earth mass units in an array\n",
    "Earth_Units_JAve = np.mean(Earth_Units_Jupiter) # Averages all of my values in my array to give me one value\n",
    "print(f\"Jupiter's mass in Earth units is {Earth_Units_JAve}\")\n",
    "\n",
    "\n",
    "print(\"\")\n",
    "\n",
    "# Imports my data for Celestial Bodies orbiting Saturn\n",
    "Orbiting_Saturn = pd.read_excel('/Users/ravial-sahalman/Downloads/KeplersLaws.xlsx',sheet_name = 0)\n",
    "Orbiting_Saturn = Orbiting_Saturn[(Orbiting_Saturn['Orbiting']=='Saturn')]\n",
    "l = np.array(Orbiting_Saturn['Semimajor'])\n",
    "p = np.array(Orbiting_Saturn['Orbital'])\n",
    "\n",
    "L = l * (1000)*(6.685*10**-9)\n",
    "P = p/365\n",
    "\n",
    "Mass_Saturn = (L**3)/(P**2) # Mass of Saturn in multiple values in an array\n",
    "SaturnMass_Ave = np.mean(Mass_Saturn)\n",
    "print(f\"Saturn's mass in solar units is {SaturnMass_Ave}\")\n",
    "\n",
    "Earth_Units_Saturn = Mass_Saturn * 333030\n",
    "Earth_Units_S_Ave = np.mean(Earth_Units_Saturn)\n",
    "print(f\"Saturn's mass in Earth units is {Earth_Units_S_Ave}\")\n",
    "\n",
    "\n",
    "\n",
    "\n",
    "\n",
    "\n",
    "plt.scatter(x,y, color = 'blue')\n",
    "plt.scatter(w,v, color = 'pink')\n",
    "plt.show()\n",
    "\n",
    "\n",
    "plt.scatter(A,B, color = 'red')\n",
    "plt.scatter(L,P, color = 'green')\n",
    "plt.show()\n",
    "\n",
    "\n",
    "plt.xscale('log')\n",
    "plt.yscale('log')\n",
    "plt.plot(x,y,'o')\n",
    "plt.plot(x,y,'--', color = 'blue')\n",
    "plt.plot(A,B,'o',color ='red')\n",
    "plt.plot(A,B,'--',color = 'red')\n",
    "plt.plot(L,P,'o',color = 'green')\n",
    "plt.plot(L,P,'--',color = 'green')\n",
    "plt.show()\n",
    "\n",
    "\n",
    "print(PlanetsOrbiting_Sun)\n",
    "print(DwarfsOrbiting_Sun)\n",
    "print(Orbiting_Jupiter)\n",
    "print(Orbiting_Saturn)"
   ]
  },
  {
   "cell_type": "code",
   "execution_count": null,
   "id": "4607f986-f2c3-4840-bf0a-143b7fa3786e",
   "metadata": {},
   "outputs": [],
   "source": [
    "\n"
   ]
  },
  {
   "cell_type": "code",
   "execution_count": null,
   "id": "48e30738-3352-4412-b98c-215caa9bb220",
   "metadata": {},
   "outputs": [],
   "source": []
  },
  {
   "cell_type": "code",
   "execution_count": null,
   "id": "8da76c9f-6cda-41d6-a5fa-15f675c4ee67",
   "metadata": {},
   "outputs": [],
   "source": []
  },
  {
   "cell_type": "code",
   "execution_count": null,
   "id": "332289c5-e2a2-4103-a46d-f77fc2b86eb4",
   "metadata": {},
   "outputs": [],
   "source": []
  },
  {
   "cell_type": "code",
   "execution_count": null,
   "id": "531862ef-8555-4097-998c-78841aa0b991",
   "metadata": {},
   "outputs": [],
   "source": []
  }
 ],
 "metadata": {
  "kernelspec": {
   "display_name": "Python 3",
   "language": "python",
   "name": "python3"
  },
  "language_info": {
   "codemirror_mode": {
    "name": "ipython",
    "version": 3
   },
   "file_extension": ".py",
   "mimetype": "text/x-python",
   "name": "python",
   "nbconvert_exporter": "python",
   "pygments_lexer": "ipython3",
   "version": "3.8.8"
  }
 },
 "nbformat": 4,
 "nbformat_minor": 5
}
